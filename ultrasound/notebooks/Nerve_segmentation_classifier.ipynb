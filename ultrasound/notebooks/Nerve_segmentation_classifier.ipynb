{
 "cells": [
  {
   "cell_type": "code",
   "execution_count": 1,
   "metadata": {
    "colab": {
     "base_uri": "https://localhost:8080/"
    },
    "id": "IGpma4kpiXt3",
    "outputId": "53cc85b3-41d8-413a-bb95-24967afd53f7"
   },
   "outputs": [],
   "source": [
    "import os\n",
    "import re\n",
    "import random\n",
    "import numpy as np\n",
    "import pandas as pd\n",
    "import matplotlib.pyplot as plt\n",
    "import re\n",
    "from datetime import datetime\n",
    "import cv2\n",
    "from PIL import Image\n",
    "from sklearn.model_selection import train_test_split, KFold\n",
    "import keras\n",
    "import tensorflow as tf\n",
    "from tensorflow import keras\n",
    "from tensorflow.keras.layers import *\n",
    "from tensorflow.keras.preprocessing import image\n",
    "from tensorflow.keras.models import Model, load_model\n",
    "from tensorflow.keras.layers import UpSampling2D\n",
    "from tensorflow.keras.layers import MaxPooling2D, GlobalAveragePooling2D\n",
    "from tensorflow.keras.layers import concatenate,Dropout\n",
    "from tensorflow.keras.layers import Multiply, MaxPooling2D, GlobalMaxPooling2D\n",
    "from tensorflow.keras.callbacks import EarlyStopping, ModelCheckpoint\n",
    "from sklearn.metrics import confusion_matrix\n",
    "from tensorflow.keras import backend as K\n",
    "from tensorflow.keras.layers import Input, Add, Dense, Activation, ZeroPadding2D\n",
    "from tensorflow.keras.layers import BatchNormalization, Flatten, Conv2D, AveragePooling2D\n",
    "from tensorflow.keras.models import Model, load_model\n",
    "from tensorflow.keras.callbacks import EarlyStopping, ModelCheckpoint, ReduceLROnPlateau\n",
    "from tensorflow.keras.utils import plot_model\n",
    "from tensorflow.keras.initializers import glorot_uniform\n",
    "from tensorflow.keras.optimizers import Adam\n",
    "from keras.callbacks import ModelCheckpoint\n",
    "import tensorflow\n",
    "# %%\n",
    "from skimage.transform import resize\n",
    "from tqdm import tqdm\n",
    "from tensorflow import keras\n",
    "import cv2\n",
    "import random"
   ]
  },
  {
   "cell_type": "code",
   "execution_count": 2,
   "metadata": {},
   "outputs": [],
   "source": [
    "def Heatmapgen(x):\n",
    "    #https://medium.com/@dtuk81/confusion-matrix-visualization-fc31e3f30fea referred from here\n",
    "    group_names = ['True -ve','False +ve','False -ve','True +ve']\n",
    "    group_counts = ['{0:0.0f}'.format(value) for value in x.flatten()]\n",
    "    labels = [f'{v1}\\n{v2}' for v1, v2 in\n",
    "              zip(group_names,group_counts)]\n",
    "    labels = np.asarray(labels).reshape(2,2)\n",
    "    sns.heatmap(x, annot=labels, fmt='', cmap='RdBu')"
   ]
  },
  {
   "cell_type": "code",
   "execution_count": 3,
   "metadata": {},
   "outputs": [],
   "source": [
    "'''Construct a data generator using tf.Dataset'''\n",
    "def convert_to_tf_dataset(images, labels, batch_size=64):\n",
    "    # TODO: apply some augmentation (rotation, flipping)\n",
    "\n",
    "    def normalize(input_image):\n",
    "        input_image = tf.cast(input_image, tf.float32) / 255.0\n",
    "        return input_image\n",
    "\n",
    "    def load_image(datapoint):\n",
    "        input_image = normalize(datapoint['image'])\n",
    "        return input_image, datapoint['mask_pres']\n",
    "\n",
    "    dataset = tf.data.Dataset.from_tensor_slices({'image': images, 'mask_pres': labels})\n",
    "    dataset = dataset.map(load_image, num_parallel_calls=tf.data.AUTOTUNE)\n",
    "    batches = (dataset.cache().shuffle(100).batch(batch_size).repeat().prefetch(buffer_size=tf.data.AUTOTUNE))\n",
    "\n",
    "    return batches"
   ]
  },
  {
   "cell_type": "code",
   "execution_count": 4,
   "metadata": {},
   "outputs": [],
   "source": [
    "# img size should be between 75 and image size\n",
    "def get_train_test_data(split_percent=0.2, img_size=75):\n",
    "    print(\"X_train, X_valid, y_train, y_valid generating...\")\n",
    "\n",
    "    #loading the dataframe containing images after removing conflicting images\n",
    "    df=pd.read_csv('../train_masks.csv')\n",
    "    img=pd.read_csv('../dup_rem.csv')\n",
    "    img.drop('Unnamed: 0',axis=1,inplace=True)\n",
    "    img.image_name=img.image_name.astype(int)\n",
    "    img.subject_name=img.subject_name.astype(int)\n",
    "    img.columns=['image_path','img','subject','mask_path']\n",
    "    new_df=pd.merge(img,df,on=['img','subject'])\n",
    "    new_df.pixels.fillna(0,inplace=True)\n",
    "    val=[0 if i==0 else 1 for i in new_df.pixels]\n",
    "    new_df['mask_pres']=val\n",
    "    new_df.head(10)\n",
    "\n",
    "    #Get array of all images based on their path\n",
    "    X = []\n",
    "    for path in tqdm(new_df.image_path):\n",
    "        img1=cv2.imread(\"../raw/\"+str(path),cv2.IMREAD_GRAYSCALE)\n",
    "        img1=resize(np.reshape(img1, (np.shape(img1)[0], np.shape(img1)[1],1)), (img_size, img_size))\n",
    "        X.append(img1)\n",
    "\n",
    "    return train_test_split(X, new_df.mask_pres, test_size=split_percent, random_state=42)"
   ]
  },
  {
   "cell_type": "code",
   "execution_count": 5,
   "metadata": {},
   "outputs": [],
   "source": [
    "def load_model_clf(val_tf_dataset, val_batch_size, val_steps_per_epoch):\n",
    "    model_clf = load_model(\"models/clf\")\n",
    "    # Evaluate the restored model\n",
    "    results = model_clf.evaluate(val_tf_dataset, batch_size=val_batch_size, steps=val_steps_per_epoch, verbose=2)\n",
    "    print(\"Results of evaluation:\", results)\n",
    "    return model_clf"
   ]
  },
  {
   "cell_type": "code",
   "execution_count": 6,
   "metadata": {},
   "outputs": [],
   "source": [
    "def fit_and_save_model_clf(model_clf, train_dataset, val_dataset, epochs, train_steps_per_epoch, val_steps_per_epoch, saveto):\n",
    "    result_clf = model_clf.fit(train_dataset, steps_per_epoch=train_steps_per_epoch, epochs=epochs,\n",
    "                               validation_data=val_dataset,\n",
    "                               validation_steps=val_steps_per_epoch, initial_epoch=0)\n",
    "    model_clf.save(saveto)\n",
    "    print(\"model saved: \", saveto)\n",
    "    return model_clf"
   ]
  },
  {
   "cell_type": "code",
   "execution_count": 7,
   "metadata": {},
   "outputs": [],
   "source": [
    "def create_model_clf(img_size):\n",
    "    inp = Input((img_size, img_size, 1))\n",
    "    conv1 = Conv2D(filters=3, kernel_size=(3, 3), padding='same')(inp)\n",
    "\n",
    "    # using a pretrained network\n",
    "    base_model = keras.applications.InceptionResNetV2(\n",
    "        weights='imagenet',  # Load weights pre-trained on ImageNet.\n",
    "        input_shape=(img_size, img_size, 3),\n",
    "        include_top=False)\n",
    "    base_model.trainable = False\n",
    "    base_model = base_model(conv1, training=False)\n",
    "\n",
    "    out = Flatten()(base_model)\n",
    "    out = Dense(1024, activation=\"relu\")(out)\n",
    "    out = Dropout(0.5)(out)\n",
    "    out = Dense(1, activation=\"sigmoid\")(out)\n",
    "    model_clf = Model(inputs=inp, outputs=out)\n",
    "    model_clf.compile(optimizer=Adam(lr=1e-8), loss='binary_crossentropy', metrics=['accuracy', 'AUC'])\n",
    "    model_clf.summary()\n",
    "    return model_clf"
   ]
  },
  {
   "cell_type": "code",
   "execution_count": 8,
   "metadata": {},
   "outputs": [],
   "source": [
    "IMG_SIZE = 128\n",
    "EPOCHS = 20\n",
    "TRAIN_STEPS_PER_EPOCH = 30\n",
    "VAL_STEPS_PER_EPOCH = 5"
   ]
  },
  {
   "cell_type": "code",
   "execution_count": 9,
   "metadata": {},
   "outputs": [],
   "source": [
    "tf.keras.backend.clear_session()\n",
    "tf.keras.backend.set_image_data_format('channels_last')"
   ]
  },
  {
   "cell_type": "code",
   "execution_count": 10,
   "metadata": {},
   "outputs": [
    {
     "name": "stdout",
     "output_type": "stream",
     "text": [
      "X_train, X_valid, y_train, y_valid generating...\n"
     ]
    },
    {
     "name": "stderr",
     "output_type": "stream",
     "text": [
      "100%|██████████| 5465/5465 [01:14<00:00, 73.61it/s]\n"
     ]
    }
   ],
   "source": [
    "X_train, X_valid, y_train, y_valid = get_train_test_data(0.2, IMG_SIZE)\n",
    "\n",
    "\n",
    "BATCH_SIZE_TRAIN = len(y_train) // TRAIN_STEPS_PER_EPOCH\n",
    "BACTH_SIZE_TEST = len(y_valid) // VAL_STEPS_PER_EPOCH"
   ]
  },
  {
   "cell_type": "code",
   "execution_count": 11,
   "metadata": {},
   "outputs": [],
   "source": [
    "train_tf_dataset = convert_to_tf_dataset(X_train,y_train, BATCH_SIZE_TRAIN)\n",
    "valid_tf_dataset = convert_to_tf_dataset(X_valid,y_valid, BACTH_SIZE_TEST)"
   ]
  },
  {
   "cell_type": "code",
   "execution_count": null,
   "metadata": {},
   "outputs": [],
   "source": [
    "print(\"creating model...\")\n",
    "model_clf = create_model_clf(IMG_SIZE)\n",
    "print(\"training model...\")\n",
    "model_clf = fit_and_save_model_clf(model_clf, train_tf_dataset, valid_tf_dataset, epochs = EPOCHS, train_steps_per_epoch = TRAIN_STEPS_PER_EPOCH, val_steps_per_epoch = VAL_STEPS_PER_EPOCH, saveto = \"models/clf\")"
   ]
  },
  {
   "cell_type": "code",
   "execution_count": 12,
   "metadata": {},
   "outputs": [
    {
     "name": "stdout",
     "output_type": "stream",
     "text": [
      "loading_model...\n",
      "5/5 - 28s - loss: 0.5093 - accuracy: 0.7550 - auc: 0.8352 - 28s/epoch - 6s/step\n",
      "Results of evaluation: [0.5093324184417725, 0.7550458908081055, 0.8351656198501587]\n"
     ]
    }
   ],
   "source": [
    "print(\"loading_model...\")\n",
    "model_clf = load_model_clf(valid_tf_dataset, BACTH_SIZE_TEST, VAL_STEPS_PER_EPOCH)"
   ]
  },
  {
   "cell_type": "code",
   "execution_count": 22,
   "metadata": {},
   "outputs": [
    {
     "data": {
      "image/png": "[encoded data removed]",
      "text/plain": [
       "<IPython.core.display.Image object>"
      ]
     },
     "execution_count": 22,
     "metadata": {},
     "output_type": "execute_result"
    }
   ],
   "source": [
    "plot_model(model_clf, to_file='model_clf.png', show_shapes=False, show_dtype=False,\n",
    "    show_layer_names=True, rankdir='LR', expand_nested=False, dpi=96)"
   ]
  },
  {
   "cell_type": "code",
   "execution_count": 13,
   "metadata": {},
   "outputs": [
    {
     "name": "stderr",
     "output_type": "stream",
     "text": [
      "100%|██████████| 4372/4372 [00:10<00:00, 427.62it/s]\n",
      "100%|██████████| 1093/1093 [00:02<00:00, 429.51it/s]\n"
     ]
    },
    {
     "name": "stdout",
     "output_type": "stream",
     "text": [
      "137/137 [==============================] - 107s 691ms/step\n",
      "35/35 [==============================] - 25s 701ms/step\n"
     ]
    }
   ],
   "source": [
    "'''GET STATISTICS ON THE CLF ACCURACY'''\n",
    "\n",
    "# generate predictions on validation dataset\n",
    "X_train_new=np.zeros((len(X_train),128,128,1))\n",
    "X_valid_new=np.zeros((len(X_valid),128,128,1))\n",
    "for i in tqdm(range(len(X_train_new))):\n",
    "  X_train_new[i]=tf.cast(tf.convert_to_tensor(X_train[i]), tf.float32) / 255.0\n",
    "for i in tqdm(range(len(X_valid_new))):\n",
    "  X_valid_new[i] =tf.cast(tf.convert_to_tensor(X_valid[i]), tf.float32) / 255.0\n",
    "\n",
    "pred_clf_tr=model_clf.predict(X_train_new)\n",
    "pred_clf_val=model_clf.predict(X_valid_new)\n",
    "\n",
    "#using a default threshold of 0.5 for prediction\n",
    "pred_clf_val=(np.array(pred_clf_val)>0.5)\n",
    "pred_clf_tr=(np.array(pred_clf_tr)>0.5)"
   ]
  },
  {
   "cell_type": "code",
   "execution_count": 16,
   "metadata": {},
   "outputs": [
    {
     "name": "stdout",
     "output_type": "stream",
     "text": [
      "0.7548032936870998\n"
     ]
    }
   ],
   "source": [
    "from sklearn import metrics\n",
    "\n",
    "results = metrics.accuracy_score(y_valid, pred_clf_val)\n",
    "print(results)"
   ]
  },
  {
   "cell_type": "code",
   "execution_count": 15,
   "metadata": {},
   "outputs": [
    {
     "data": {
      "image/png": "[encoded data removed]",
      "text/plain": [
       "<Figure size 1000x700 with 2 Axes>"
      ]
     },
     "metadata": {},
     "output_type": "display_data"
    }
   ],
   "source": [
    "import seaborn as sns\n",
    "#generating the confusion matrix\n",
    "fig = plt.figure(figsize=(10,7))\n",
    "ax1 = fig.add_subplot(221)\n",
    "cf_matr1=confusion_matrix(y_train,pred_clf_tr)\n",
    "plt.title('Train confusion matrix')\n",
    "Heatmapgen(cf_matr1)"
   ]
  },
  {
   "cell_type": "code",
   "execution_count": 44,
   "metadata": {},
   "outputs": [
    {
     "data": {
      "image/png": "[encoded data removed]",
      "text/plain": [
       "<Figure size 640x480 with 2 Axes>"
      ]
     },
     "metadata": {},
     "output_type": "display_data"
    }
   ],
   "source": [
    "ax2 = fig.add_subplot(222)\n",
    "cf_matr2=confusion_matrix(y_valid,pred_clf_val)\n",
    "plt.title('Validation confusion matrix')\n",
    "Heatmapgen(cf_matr2)"
   ]
  },
  {
   "cell_type": "code",
   "execution_count": 14,
   "metadata": {},
   "outputs": [],
   "source": [
    "#storing the predictions in a list\n",
    "pred_clf_val=[i[0] for i in pred_clf_val]\n",
    "pred_clf_tr=[i[0] for i in pred_clf_tr]"
   ]
  },
  {
   "attachments": {},
   "cell_type": "markdown",
   "metadata": {},
   "source": [
    "Oversampling misclassified points"
   ]
  },
  {
   "cell_type": "code",
   "execution_count": 15,
   "metadata": {},
   "outputs": [],
   "source": [
    "#getting the misclassified data points indices\n",
    "wrong_pred=np.argwhere(np.where(pred_clf_tr!=y_train,1,0))\n",
    "wrong_pred=[i[0] for i in wrong_pred]"
   ]
  },
  {
   "cell_type": "code",
   "execution_count": 16,
   "metadata": {},
   "outputs": [],
   "source": [
    "#out of misclassified datapoints randomly sampling 500 data points\n",
    "sample_indices=random.sample(wrong_pred,500)"
   ]
  },
  {
   "cell_type": "code",
   "execution_count": 20,
   "metadata": {},
   "outputs": [
    {
     "name": "stdout",
     "output_type": "stream",
     "text": [
      "4372\n",
      "4372\n"
     ]
    }
   ],
   "source": [
    "print(len(y_train))\n",
    "print(len(X_train))"
   ]
  },
  {
   "cell_type": "code",
   "execution_count": 33,
   "metadata": {},
   "outputs": [
    {
     "data": {
      "text/plain": [
       "5360    0\n",
       "1086    0\n",
       "5047    0\n",
       "3617    1\n",
       "2921    1\n",
       "491     0\n",
       "3529    1\n",
       "168     1\n",
       "4246    1\n",
       "3213    1\n",
       "Name: mask_pres, dtype: int64"
      ]
     },
     "execution_count": 33,
     "metadata": {},
     "output_type": "execute_result"
    }
   ],
   "source": [
    "y_valid.head(10)"
   ]
  },
  {
   "cell_type": "code",
   "execution_count": 17,
   "metadata": {},
   "outputs": [
    {
     "name": "stderr",
     "output_type": "stream",
     "text": [
      "C:\\Users\\Sasha\\AppData\\Local\\Temp\\ipykernel_7204\\3115471627.py:3: FutureWarning: The series.append method is deprecated and will be removed from pandas in a future version. Use pandas.concat instead.\n",
      "  y_train = y_train.append(pd.Series([y_train.iloc[sample_index] for sample_index in sample_indices]))\n"
     ]
    }
   ],
   "source": [
    "#oversampling the train set with misclassified datapoints\n",
    "X_train.extend([X_train[sample_index] for sample_index in sample_indices])\n",
    "y_train = y_train.append(pd.Series([y_train.iloc[sample_index] for sample_index in sample_indices]))"
   ]
  },
  {
   "cell_type": "code",
   "execution_count": 23,
   "metadata": {},
   "outputs": [
    {
     "name": "stdout",
     "output_type": "stream",
     "text": [
      "4872\n",
      "4872\n"
     ]
    }
   ],
   "source": [
    "print(len(y_train))\n",
    "print(len(X_train))"
   ]
  },
  {
   "cell_type": "code",
   "execution_count": 18,
   "metadata": {},
   "outputs": [],
   "source": [
    "# generating tf datasets after oversampling\n",
    "train_tf_dataset = convert_to_tf_dataset(X_train, y_train, BATCH_SIZE_TRAIN)\n",
    "valid_tf_dataset = convert_to_tf_dataset(X_valid, y_valid, BACTH_SIZE_TEST)"
   ]
  },
  {
   "cell_type": "code",
   "execution_count": null,
   "metadata": {},
   "outputs": [],
   "source": []
  },
  {
   "cell_type": "code",
   "execution_count": 19,
   "metadata": {},
   "outputs": [
    {
     "name": "stdout",
     "output_type": "stream",
     "text": [
      "30/30 [==============================] - 442s 15s/step - loss: 0.6775 - accuracy: 0.5550 - auc: 0.5964 - val_loss: 0.6662 - val_accuracy: 0.5743 - val_auc: 0.7083\n",
      "Epoch 8/20\n",
      "30/30 [==============================] - 407s 14s/step - loss: 0.6666 - accuracy: 0.5795 - auc: 0.6165 - val_loss: 0.6763 - val_accuracy: 0.5440 - val_auc: 0.7181\n",
      "Epoch 9/20\n",
      "30/30 [==============================] - 421s 14s/step - loss: 0.6639 - accuracy: 0.5848 - auc: 0.6087 - val_loss: 0.6297 - val_accuracy: 0.6743 - val_auc: 0.7277\n",
      "Epoch 10/20\n",
      "30/30 [==============================] - 419s 14s/step - loss: 0.6591 - accuracy: 0.5843 - auc: 0.6233 - val_loss: 0.6262 - val_accuracy: 0.6550 - val_auc: 0.7349\n",
      "Epoch 11/20\n",
      "30/30 [==============================] - 408s 14s/step - loss: 0.6529 - accuracy: 0.5916 - auc: 0.6381 - val_loss: 0.6163 - val_accuracy: 0.6541 - val_auc: 0.7393\n",
      "Epoch 12/20\n",
      " 3/30 [==>...........................] - ETA: 6:06 - loss: 0.6223 - accuracy: 0.6414 - auc: 0.6945"
     ]
    },
    {
     "ename": "KeyboardInterrupt",
     "evalue": "",
     "output_type": "error",
     "traceback": [
      "\u001b[1;31m---------------------------------------------------------------------------\u001b[0m",
      "\u001b[1;31mKeyboardInterrupt\u001b[0m                         Traceback (most recent call last)",
      "Cell \u001b[1;32mIn[19], line 5\u001b[0m\n\u001b[0;32m      3\u001b[0m model_clf \u001b[39m=\u001b[39m create_model_clf(IMG_SIZE)\n\u001b[0;32m      4\u001b[0m \u001b[39mprint\u001b[39m(\u001b[39m\"\u001b[39m\u001b[39mtraining model...\u001b[39m\u001b[39m\"\u001b[39m)\n\u001b[1;32m----> 5\u001b[0m model_clf \u001b[39m=\u001b[39m fit_and_save_model_clf(model_clf, train_tf_dataset, valid_tf_dataset, saveto\u001b[39m=\u001b[39;49m\u001b[39m\"\u001b[39;49m\u001b[39mmodels/clf_improved\u001b[39;49m\u001b[39m\"\u001b[39;49m, epochs \u001b[39m=\u001b[39;49m EPOCHS, train_steps_per_epoch \u001b[39m=\u001b[39;49m TRAIN_STEPS_PER_EPOCH, val_steps_per_epoch \u001b[39m=\u001b[39;49m VAL_STEPS_PER_EPOCH)\n",
      "Cell \u001b[1;32mIn[6], line 2\u001b[0m, in \u001b[0;36mfit_and_save_model_clf\u001b[1;34m(model_clf, train_dataset, val_dataset, epochs, train_steps_per_epoch, val_steps_per_epoch, saveto)\u001b[0m\n\u001b[0;32m      1\u001b[0m \u001b[39mdef\u001b[39;00m \u001b[39mfit_and_save_model_clf\u001b[39m(model_clf, train_dataset, val_dataset, epochs, train_steps_per_epoch, val_steps_per_epoch, saveto):\n\u001b[1;32m----> 2\u001b[0m     result_clf \u001b[39m=\u001b[39m model_clf\u001b[39m.\u001b[39;49mfit(train_dataset, steps_per_epoch\u001b[39m=\u001b[39;49mtrain_steps_per_epoch, epochs\u001b[39m=\u001b[39;49mepochs,\n\u001b[0;32m      3\u001b[0m                                validation_data\u001b[39m=\u001b[39;49mval_dataset,\n\u001b[0;32m      4\u001b[0m                                validation_steps\u001b[39m=\u001b[39;49mval_steps_per_epoch, initial_epoch\u001b[39m=\u001b[39;49m\u001b[39m0\u001b[39;49m)\n\u001b[0;32m      5\u001b[0m     model_clf\u001b[39m.\u001b[39msave(saveto)\n\u001b[0;32m      6\u001b[0m     \u001b[39mprint\u001b[39m(\u001b[39m\"\u001b[39m\u001b[39mmodel saved: \u001b[39m\u001b[39m\"\u001b[39m, saveto)\n",
      "File \u001b[1;32mc:\\Users\\Sasha\\AppData\\Local\\Programs\\Python\\Python310\\lib\\site-packages\\keras\\utils\\traceback_utils.py:65\u001b[0m, in \u001b[0;36mfilter_traceback.<locals>.error_handler\u001b[1;34m(*args, **kwargs)\u001b[0m\n\u001b[0;32m     63\u001b[0m filtered_tb \u001b[39m=\u001b[39m \u001b[39mNone\u001b[39;00m\n\u001b[0;32m     64\u001b[0m \u001b[39mtry\u001b[39;00m:\n\u001b[1;32m---> 65\u001b[0m     \u001b[39mreturn\u001b[39;00m fn(\u001b[39m*\u001b[39margs, \u001b[39m*\u001b[39m\u001b[39m*\u001b[39mkwargs)\n\u001b[0;32m     66\u001b[0m \u001b[39mexcept\u001b[39;00m \u001b[39mException\u001b[39;00m \u001b[39mas\u001b[39;00m e:\n\u001b[0;32m     67\u001b[0m     filtered_tb \u001b[39m=\u001b[39m _process_traceback_frames(e\u001b[39m.\u001b[39m__traceback__)\n",
      "File \u001b[1;32mc:\\Users\\Sasha\\AppData\\Local\\Programs\\Python\\Python310\\lib\\site-packages\\keras\\engine\\training.py:1650\u001b[0m, in \u001b[0;36mModel.fit\u001b[1;34m(self, x, y, batch_size, epochs, verbose, callbacks, validation_split, validation_data, shuffle, class_weight, sample_weight, initial_epoch, steps_per_epoch, validation_steps, validation_batch_size, validation_freq, max_queue_size, workers, use_multiprocessing)\u001b[0m\n\u001b[0;32m   1642\u001b[0m \u001b[39mwith\u001b[39;00m tf\u001b[39m.\u001b[39mprofiler\u001b[39m.\u001b[39mexperimental\u001b[39m.\u001b[39mTrace(\n\u001b[0;32m   1643\u001b[0m     \u001b[39m\"\u001b[39m\u001b[39mtrain\u001b[39m\u001b[39m\"\u001b[39m,\n\u001b[0;32m   1644\u001b[0m     epoch_num\u001b[39m=\u001b[39mepoch,\n\u001b[1;32m   (...)\u001b[0m\n\u001b[0;32m   1647\u001b[0m     _r\u001b[39m=\u001b[39m\u001b[39m1\u001b[39m,\n\u001b[0;32m   1648\u001b[0m ):\n\u001b[0;32m   1649\u001b[0m     callbacks\u001b[39m.\u001b[39mon_train_batch_begin(step)\n\u001b[1;32m-> 1650\u001b[0m     tmp_logs \u001b[39m=\u001b[39m \u001b[39mself\u001b[39;49m\u001b[39m.\u001b[39;49mtrain_function(iterator)\n\u001b[0;32m   1651\u001b[0m     \u001b[39mif\u001b[39;00m data_handler\u001b[39m.\u001b[39mshould_sync:\n\u001b[0;32m   1652\u001b[0m         context\u001b[39m.\u001b[39masync_wait()\n",
      "File \u001b[1;32mc:\\Users\\Sasha\\AppData\\Local\\Programs\\Python\\Python310\\lib\\site-packages\\tensorflow\\python\\util\\traceback_utils.py:150\u001b[0m, in \u001b[0;36mfilter_traceback.<locals>.error_handler\u001b[1;34m(*args, **kwargs)\u001b[0m\n\u001b[0;32m    148\u001b[0m filtered_tb \u001b[39m=\u001b[39m \u001b[39mNone\u001b[39;00m\n\u001b[0;32m    149\u001b[0m \u001b[39mtry\u001b[39;00m:\n\u001b[1;32m--> 150\u001b[0m   \u001b[39mreturn\u001b[39;00m fn(\u001b[39m*\u001b[39margs, \u001b[39m*\u001b[39m\u001b[39m*\u001b[39mkwargs)\n\u001b[0;32m    151\u001b[0m \u001b[39mexcept\u001b[39;00m \u001b[39mException\u001b[39;00m \u001b[39mas\u001b[39;00m e:\n\u001b[0;32m    152\u001b[0m   filtered_tb \u001b[39m=\u001b[39m _process_traceback_frames(e\u001b[39m.\u001b[39m__traceback__)\n",
      "File \u001b[1;32mc:\\Users\\Sasha\\AppData\\Local\\Programs\\Python\\Python310\\lib\\site-packages\\tensorflow\\python\\eager\\polymorphic_function\\polymorphic_function.py:880\u001b[0m, in \u001b[0;36mFunction.__call__\u001b[1;34m(self, *args, **kwds)\u001b[0m\n\u001b[0;32m    877\u001b[0m compiler \u001b[39m=\u001b[39m \u001b[39m\"\u001b[39m\u001b[39mxla\u001b[39m\u001b[39m\"\u001b[39m \u001b[39mif\u001b[39;00m \u001b[39mself\u001b[39m\u001b[39m.\u001b[39m_jit_compile \u001b[39melse\u001b[39;00m \u001b[39m\"\u001b[39m\u001b[39mnonXla\u001b[39m\u001b[39m\"\u001b[39m\n\u001b[0;32m    879\u001b[0m \u001b[39mwith\u001b[39;00m OptionalXlaContext(\u001b[39mself\u001b[39m\u001b[39m.\u001b[39m_jit_compile):\n\u001b[1;32m--> 880\u001b[0m   result \u001b[39m=\u001b[39m \u001b[39mself\u001b[39m\u001b[39m.\u001b[39m_call(\u001b[39m*\u001b[39margs, \u001b[39m*\u001b[39m\u001b[39m*\u001b[39mkwds)\n\u001b[0;32m    882\u001b[0m new_tracing_count \u001b[39m=\u001b[39m \u001b[39mself\u001b[39m\u001b[39m.\u001b[39mexperimental_get_tracing_count()\n\u001b[0;32m    883\u001b[0m without_tracing \u001b[39m=\u001b[39m (tracing_count \u001b[39m==\u001b[39m new_tracing_count)\n",
      "File \u001b[1;32mc:\\Users\\Sasha\\AppData\\Local\\Programs\\Python\\Python310\\lib\\site-packages\\tensorflow\\python\\eager\\polymorphic_function\\polymorphic_function.py:912\u001b[0m, in \u001b[0;36mFunction._call\u001b[1;34m(self, *args, **kwds)\u001b[0m\n\u001b[0;32m    909\u001b[0m   \u001b[39mself\u001b[39m\u001b[39m.\u001b[39m_lock\u001b[39m.\u001b[39mrelease()\n\u001b[0;32m    910\u001b[0m   \u001b[39m# In this case we have created variables on the first call, so we run the\u001b[39;00m\n\u001b[0;32m    911\u001b[0m   \u001b[39m# defunned version which is guaranteed to never create variables.\u001b[39;00m\n\u001b[1;32m--> 912\u001b[0m   \u001b[39mreturn\u001b[39;00m \u001b[39mself\u001b[39m\u001b[39m.\u001b[39m_no_variable_creation_fn(\u001b[39m*\u001b[39margs, \u001b[39m*\u001b[39m\u001b[39m*\u001b[39mkwds)  \u001b[39m# pylint: disable=not-callable\u001b[39;00m\n\u001b[0;32m    913\u001b[0m \u001b[39melif\u001b[39;00m \u001b[39mself\u001b[39m\u001b[39m.\u001b[39m_variable_creation_fn \u001b[39mis\u001b[39;00m \u001b[39mnot\u001b[39;00m \u001b[39mNone\u001b[39;00m:\n\u001b[0;32m    914\u001b[0m   \u001b[39m# Release the lock early so that multiple threads can perform the call\u001b[39;00m\n\u001b[0;32m    915\u001b[0m   \u001b[39m# in parallel.\u001b[39;00m\n\u001b[0;32m    916\u001b[0m   \u001b[39mself\u001b[39m\u001b[39m.\u001b[39m_lock\u001b[39m.\u001b[39mrelease()\n",
      "File \u001b[1;32mc:\\Users\\Sasha\\AppData\\Local\\Programs\\Python\\Python310\\lib\\site-packages\\tensorflow\\python\\eager\\polymorphic_function\\tracing_compiler.py:134\u001b[0m, in \u001b[0;36mTracingCompiler.__call__\u001b[1;34m(self, *args, **kwargs)\u001b[0m\n\u001b[0;32m    131\u001b[0m \u001b[39mwith\u001b[39;00m \u001b[39mself\u001b[39m\u001b[39m.\u001b[39m_lock:\n\u001b[0;32m    132\u001b[0m   (concrete_function,\n\u001b[0;32m    133\u001b[0m    filtered_flat_args) \u001b[39m=\u001b[39m \u001b[39mself\u001b[39m\u001b[39m.\u001b[39m_maybe_define_function(args, kwargs)\n\u001b[1;32m--> 134\u001b[0m \u001b[39mreturn\u001b[39;00m concrete_function\u001b[39m.\u001b[39;49m_call_flat(\n\u001b[0;32m    135\u001b[0m     filtered_flat_args, captured_inputs\u001b[39m=\u001b[39;49mconcrete_function\u001b[39m.\u001b[39;49mcaptured_inputs)\n",
      "File \u001b[1;32mc:\\Users\\Sasha\\AppData\\Local\\Programs\\Python\\Python310\\lib\\site-packages\\tensorflow\\python\\eager\\polymorphic_function\\monomorphic_function.py:1745\u001b[0m, in \u001b[0;36mConcreteFunction._call_flat\u001b[1;34m(self, args, captured_inputs, cancellation_manager)\u001b[0m\n\u001b[0;32m   1741\u001b[0m possible_gradient_type \u001b[39m=\u001b[39m gradients_util\u001b[39m.\u001b[39mPossibleTapeGradientTypes(args)\n\u001b[0;32m   1742\u001b[0m \u001b[39mif\u001b[39;00m (possible_gradient_type \u001b[39m==\u001b[39m gradients_util\u001b[39m.\u001b[39mPOSSIBLE_GRADIENT_TYPES_NONE\n\u001b[0;32m   1743\u001b[0m     \u001b[39mand\u001b[39;00m executing_eagerly):\n\u001b[0;32m   1744\u001b[0m   \u001b[39m# No tape is watching; skip to running the function.\u001b[39;00m\n\u001b[1;32m-> 1745\u001b[0m   \u001b[39mreturn\u001b[39;00m \u001b[39mself\u001b[39m\u001b[39m.\u001b[39m_build_call_outputs(\u001b[39mself\u001b[39;49m\u001b[39m.\u001b[39;49m_inference_function\u001b[39m.\u001b[39;49mcall(\n\u001b[0;32m   1746\u001b[0m       ctx, args, cancellation_manager\u001b[39m=\u001b[39;49mcancellation_manager))\n\u001b[0;32m   1747\u001b[0m forward_backward \u001b[39m=\u001b[39m \u001b[39mself\u001b[39m\u001b[39m.\u001b[39m_select_forward_and_backward_functions(\n\u001b[0;32m   1748\u001b[0m     args,\n\u001b[0;32m   1749\u001b[0m     possible_gradient_type,\n\u001b[0;32m   1750\u001b[0m     executing_eagerly)\n\u001b[0;32m   1751\u001b[0m forward_function, args_with_tangents \u001b[39m=\u001b[39m forward_backward\u001b[39m.\u001b[39mforward()\n",
      "File \u001b[1;32mc:\\Users\\Sasha\\AppData\\Local\\Programs\\Python\\Python310\\lib\\site-packages\\tensorflow\\python\\eager\\polymorphic_function\\monomorphic_function.py:378\u001b[0m, in \u001b[0;36m_EagerDefinedFunction.call\u001b[1;34m(self, ctx, args, cancellation_manager)\u001b[0m\n\u001b[0;32m    376\u001b[0m \u001b[39mwith\u001b[39;00m _InterpolateFunctionError(\u001b[39mself\u001b[39m):\n\u001b[0;32m    377\u001b[0m   \u001b[39mif\u001b[39;00m cancellation_manager \u001b[39mis\u001b[39;00m \u001b[39mNone\u001b[39;00m:\n\u001b[1;32m--> 378\u001b[0m     outputs \u001b[39m=\u001b[39m execute\u001b[39m.\u001b[39;49mexecute(\n\u001b[0;32m    379\u001b[0m         \u001b[39mstr\u001b[39;49m(\u001b[39mself\u001b[39;49m\u001b[39m.\u001b[39;49msignature\u001b[39m.\u001b[39;49mname),\n\u001b[0;32m    380\u001b[0m         num_outputs\u001b[39m=\u001b[39;49m\u001b[39mself\u001b[39;49m\u001b[39m.\u001b[39;49m_num_outputs,\n\u001b[0;32m    381\u001b[0m         inputs\u001b[39m=\u001b[39;49margs,\n\u001b[0;32m    382\u001b[0m         attrs\u001b[39m=\u001b[39;49mattrs,\n\u001b[0;32m    383\u001b[0m         ctx\u001b[39m=\u001b[39;49mctx)\n\u001b[0;32m    384\u001b[0m   \u001b[39melse\u001b[39;00m:\n\u001b[0;32m    385\u001b[0m     outputs \u001b[39m=\u001b[39m execute\u001b[39m.\u001b[39mexecute_with_cancellation(\n\u001b[0;32m    386\u001b[0m         \u001b[39mstr\u001b[39m(\u001b[39mself\u001b[39m\u001b[39m.\u001b[39msignature\u001b[39m.\u001b[39mname),\n\u001b[0;32m    387\u001b[0m         num_outputs\u001b[39m=\u001b[39m\u001b[39mself\u001b[39m\u001b[39m.\u001b[39m_num_outputs,\n\u001b[1;32m   (...)\u001b[0m\n\u001b[0;32m    390\u001b[0m         ctx\u001b[39m=\u001b[39mctx,\n\u001b[0;32m    391\u001b[0m         cancellation_manager\u001b[39m=\u001b[39mcancellation_manager)\n",
      "File \u001b[1;32mc:\\Users\\Sasha\\AppData\\Local\\Programs\\Python\\Python310\\lib\\site-packages\\tensorflow\\python\\eager\\execute.py:52\u001b[0m, in \u001b[0;36mquick_execute\u001b[1;34m(op_name, num_outputs, inputs, attrs, ctx, name)\u001b[0m\n\u001b[0;32m     50\u001b[0m \u001b[39mtry\u001b[39;00m:\n\u001b[0;32m     51\u001b[0m   ctx\u001b[39m.\u001b[39mensure_initialized()\n\u001b[1;32m---> 52\u001b[0m   tensors \u001b[39m=\u001b[39m pywrap_tfe\u001b[39m.\u001b[39;49mTFE_Py_Execute(ctx\u001b[39m.\u001b[39;49m_handle, device_name, op_name,\n\u001b[0;32m     53\u001b[0m                                       inputs, attrs, num_outputs)\n\u001b[0;32m     54\u001b[0m \u001b[39mexcept\u001b[39;00m core\u001b[39m.\u001b[39m_NotOkStatusException \u001b[39mas\u001b[39;00m e:\n\u001b[0;32m     55\u001b[0m   \u001b[39mif\u001b[39;00m name \u001b[39mis\u001b[39;00m \u001b[39mnot\u001b[39;00m \u001b[39mNone\u001b[39;00m:\n",
      "\u001b[1;31mKeyboardInterrupt\u001b[0m: "
     ]
    }
   ],
   "source": [
    "# Retraining the model on oversampled points\n",
    "print(\"creating model...\")\n",
    "model_clf = create_model_clf(IMG_SIZE)\n",
    "print(\"training model...\")\n",
    "model_clf = fit_and_save_model_clf(model_clf, train_tf_dataset, valid_tf_dataset, saveto=\"models/clf_improved\", epochs = EPOCHS, train_steps_per_epoch = TRAIN_STEPS_PER_EPOCH, val_steps_per_epoch = VAL_STEPS_PER_EPOCH)"
   ]
  },
  {
   "cell_type": "code",
   "execution_count": null,
   "metadata": {},
   "outputs": [],
   "source": [
    "# Epoch 3/20\n",
    "# 30/30 [==============================] - 423s 14s/step - loss: 0.7097 - accuracy: 0.5047 - auc: 0.4954 - val_loss: 0.6848 - val_accuracy: 0.5514 - val_auc: 0.6784\n",
    "# Epoch 4/20\n",
    "# 30/30 [==============================] - 420s 14s/step - loss: 0.6912 - accuracy: 0.5263 - auc: 0.5380 - val_loss: 0.6827 - val_accuracy: 0.5532 - val_auc: 0.6801\n",
    "# Epoch 5/20\n",
    "# 30/30 [==============================] - 425s 14s/step - loss: 0.6850 - accuracy: 0.5436 - auc: 0.5502 - val_loss: 0.6863 - val_accuracy: 0.5523 - val_auc: 0.6808\n",
    "# Epoch 6/20\n",
    "# 30/30 [==============================] - 416s 14s/step - loss: 0.6853 - accuracy: 0.5356 - auc: 0.5496 - val_loss: 0.6621 - val_accuracy: 0.6174 - val_auc: 0.6911\n",
    "# Epoch 7\n",
    "# 30/30 [==============================] - 442s 15s/step - loss: 0.6775 - accuracy: 0.5550 - auc: 0.5964 - val_loss: 0.6662 - val_accuracy: 0.5743 - val_auc: 0.7083\n",
    "# Epoch 8/20\n",
    "# 30/30 [==============================] - 407s 14s/step - loss: 0.6666 - accuracy: 0.5795 - auc: 0.6165 - val_loss: 0.6763 - val_accuracy: 0.5440 - val_auc: 0.7181\n",
    "# Epoch 9/20\n",
    "# 30/30 [==============================] - 421s 14s/step - loss: 0.6639 - accuracy: 0.5848 - auc: 0.6087 - val_loss: 0.6297 - val_accuracy: 0.6743 - val_auc: 0.7277\n"
   ]
  },
  {
   "cell_type": "code",
   "execution_count": 30,
   "metadata": {},
   "outputs": [
    {
     "name": "stdout",
     "output_type": "stream",
     "text": [
      "137/137 [==============================] - 162s 1s/step\n",
      "35/35 [==============================] - 38s 1s/step\n"
     ]
    }
   ],
   "source": [
    "#getting predictions using new model\n",
    "pred_clf_tr=model_clf.predict(X_train_new)\n",
    "pred_clf_val=model_clf.predict(X_valid_new)"
   ]
  },
  {
   "cell_type": "code",
   "execution_count": 42,
   "metadata": {},
   "outputs": [
    {
     "name": "stdout",
     "output_type": "stream",
     "text": [
      "0.5526075022872827\n"
     ]
    }
   ],
   "source": [
    "from sklearn import metrics\n",
    "\n",
    "#using a default threshold of 0.5 for prediction\n",
    "pred_clf_val_int=(np.array(pred_clf_val)>0.5)\n",
    "results = metrics.accuracy_score(y_valid, pred_clf_val_int)\n",
    "print(results)"
   ]
  },
  {
   "cell_type": "code",
   "execution_count": null,
   "metadata": {},
   "outputs": [],
   "source": [
    "#finding the best threshold on the newly trained model\n",
    "#for this we calculate both the false positives and false negatives in the predictions\n",
    "fp_arr_tr=[]\n",
    "fn_arr_tr=[]\n",
    "fp_arr_val=[]\n",
    "fn_arr_val=[]\n",
    "thresholds=[0.3,0.35,0.4,0.45,0.5,0.55,0.6]\n",
    "for i in thresholds:\n",
    "    pred_clf_val_=(np.array(pred_clf_val)>i)\n",
    "    pred_clf_tr_=(np.array(pred_clf_tr)>i)\n",
    "    cf_matr1=confusion_matrix(y_train,pred_clf_tr_)\n",
    "    cf_matr2=confusion_matrix(y_valid,pred_clf_val_)\n",
    "    fp_arr_tr.append(cf_matr1[0][1])\n",
    "    fn_arr_tr.append(cf_matr1[1][0])\n",
    "    fp_arr_val.append(cf_matr2[0][1])\n",
    "    fn_arr_val.append(cf_matr2[1][0])"
   ]
  },
  {
   "cell_type": "code",
   "execution_count": 108,
   "metadata": {
    "colab": {
     "base_uri": "https://localhost:8080/",
     "height": 280
    },
    "id": "ww04USrmOLRs",
    "outputId": "cfd6d41d-c51b-48fd-d51a-3c69ee666b47"
   },
   "outputs": [
    {
     "data": {
      "image/png": "[encoded data removed]",
      "text/plain": [
       "<Figure size 576x288 with 2 Axes>"
      ]
     },
     "metadata": {
      "needs_background": "light",
      "tags": []
     },
     "output_type": "display_data"
    }
   ],
   "source": [
    "#plotting the fp and fn in train and validation set\n",
    "fig,ax=plt.subplots(1,2,figsize=(8,4))\n",
    "ax[0].set_title('Train set')\n",
    "ax[0].plot(thresholds,fp_arr_tr,label='False +ve')\n",
    "ax[0].plot(thresholds,fn_arr_tr,label='False -ve')\n",
    "ax[1].set_title('Validation set')\n",
    "ax[1].plot(thresholds,fp_arr_val,label='False +ve')\n",
    "ax[1].plot(thresholds,fn_arr_val,label='False -ve')\n",
    "plt.legend()\n",
    "plt.show()"
   ]
  },
  {
   "cell_type": "code",
   "execution_count": 91,
   "metadata": {
    "colab": {
     "base_uri": "https://localhost:8080/",
     "height": 237
    },
    "id": "BwiWyXd2lYoY",
    "outputId": "5cd5a7d9-968a-4e17-bb22-79c09744b7fe"
   },
   "outputs": [
    {
     "data": {
      "image/png": "[encoded data removed]",
      "text/plain": [
       "<Figure size 720x504 with 4 Axes>"
      ]
     },
     "metadata": {
      "needs_background": "light",
      "tags": []
     },
     "output_type": "display_data"
    }
   ],
   "source": [
    "#0.5\n",
    "from sklearn.metrics import confusion_matrix\n",
    "fig = plt.figure(figsize=(10,7))\n",
    "ax1 = fig.add_subplot(221)\n",
    "cf_matr1=confusion_matrix(y_train,pred_clf_tr)\n",
    "plt.title('Train confusion matrix')\n",
    "Heatmapgen(cf_matr1)\n",
    "ax2 = fig.add_subplot(222)\n",
    "cf_matr2=confusion_matrix(y_valid,pred_clf_val)\n",
    "plt.title('Validation confusion matrix')\n",
    "Heatmapgen(cf_matr2)"
   ]
  },
  {
   "cell_type": "markdown",
   "metadata": {
    "id": "A8X5p--zPJzi"
   },
   "source": [
    "At threshold of 0.5 both fp and fn were together miniimum.."
   ]
  }
 ],
 "metadata": {
  "accelerator": "GPU",
  "colab": {
   "collapsed_sections": [],
   "name": "classifier_nerve_(1).ipynb",
   "provenance": []
  },
  "kernelspec": {
   "display_name": "Python 3",
   "language": "python",
   "name": "python3"
  },
  "language_info": {
   "codemirror_mode": {
    "name": "ipython",
    "version": 3
   },
   "file_extension": ".py",
   "mimetype": "text/x-python",
   "name": "python",
   "nbconvert_exporter": "python",
   "pygments_lexer": "ipython3",
   "version": "3.10.8"
  },
  "vscode": {
   "interpreter": {
    "hash": "db79ef70001eb7ca1475ddae30ac12e368d8e1929275825bc9b1812550a3fa53"
   }
  }
 },
 "nbformat": 4,
 "nbformat_minor": 1
}
